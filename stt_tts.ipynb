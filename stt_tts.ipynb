{
 "cells": [
  {
   "cell_type": "code",
   "execution_count": null,
   "metadata": {},
   "outputs": [],
   "source": [
    "def speak(tts, phrase):\n",
    "    tts.say(phrase)\n",
    "    tts.runAndWait()\n",
    "\n",
    "def synth(tts, id_uc, user='default'):\n",
    "    phrase = \"None\"\n",
    "    phrase = random.choice(all_phrases[id_uc][user])\n",
    "    if phrase:\n",
    "        speak(tts, phrase) "
   ]
  },
  {
   "cell_type": "code",
   "execution_count": null,
   "metadata": {},
   "outputs": [],
   "source": [
    "def get_datetime():\n",
    "    dt = datetime.now()\n",
    "    dt = str(dt.strftime(\"%Y\"+':'+\"%m\"+':'+\"%d\"+'_'+\"%H\"+':'+\"%M\"+':'+\"%S\"))\n",
    "    return dt\n",
    "\n",
    "def srecog(recognizer, microphone):\n",
    "    with microphone as source:\n",
    "        print(\"Say something!\")\n",
    "        audio = recognizer.listen(source)\n",
    "    text = recognizer.recognize_google(audio, language=\"ru-RU\").lower()\n",
    "    \n",
    "    id_user_command, id_user_command_name = get_command(text)    \n",
    "    return id_user_command, id_user_command_name\n",
    "    \n",
    "def get_command(text_rec):\n",
    "    print(\"get com\", text_rec)\n",
    "    text = text_rec.split(' ')\n",
    "    print(text)\n",
    "\n",
    "    colnames=['id', 'name', 'synonyms'] \n",
    "    dict_user = \"dict_user.csv\"\n",
    "    dict_user = pd.read_csv(dict_user, encoding = 'cp1251', names=colnames, header=None)\n",
    "    for index, row in dict_user.iterrows():\n",
    "#         synonyms = str(row['synonyms']).split('/')\n",
    "        for word in text:\n",
    "            if word == row['name']:\n",
    "                print(word)\n",
    "                id_user_command = int(row['id'])\n",
    "                id_user_command_name = row['name']\n",
    "                break\n",
    "#             else:\n",
    "#                 for i in synonyms/:\n",
    "    print(\"for end\", id_user_command, id_user_command_name)\n",
    "    return id_user_command, id_user_command_name\n",
    "\n",
    "\n",
    "def get_user_answer(recognizer, microphone):\n",
    "    date_time = get_datetime()\n",
    "    id_user_command = None\n",
    "    id_user_command_name = None\n",
    "        \n",
    "    while id_user_command == None and id_user_command_name == None:\n",
    "        try:\n",
    "            id_user_command, id_user_command_name = srecog(recognizer, microphone)\n",
    "            print(id_user_command_name)\n",
    "        except:\n",
    "            print(\"пробую еще\")\n",
    "    return id_user_command, id_user_command_name, date_time"
   ]
  },
  {
   "cell_type": "code",
   "execution_count": null,
   "metadata": {},
   "outputs": [],
   "source": [
    "def new_dialogue():\n",
    "    stop = False\n",
    "    while not stop:\n",
    "        id_user_command, id_user_command_name, date_time = get_user_answer(recognizer, microphone) \n",
    "        user = \"default\"\n",
    "        synth(tts, id_user_command, user)\n",
    "        \n",
    "        if id_user_command == 2:\n",
    "            stop = True"
   ]
  },
  {
   "cell_type": "code",
   "execution_count": null,
   "metadata": {},
   "outputs": [],
   "source": [
    "from  datetime import datetime\n",
    "import pyttsx3\n",
    "import random \n",
    "import speech_recognition as sr\n",
    "import pandas as pd\n",
    "import csv \n",
    "\n",
    "\n",
    "tts = pyttsx3.init()\n",
    "tts.setProperty(\"rate\", 200)\n",
    "recognizer = sr.Recognizer()\n",
    "microphone = sr.Microphone()\n",
    "\n",
    "dict_greetings = {\"default\": [\"Здравствуйте\", \"Привет\", \"Доброе утро\"]}\n",
    "dict_farewell = {\"default\": [\"Пока\", \"До скорого\", \"До свидания\", \"Пока-пока\"]}\n",
    "dict_introduce = {\"default\": [\"Я могучий искусственный интеллект, который поработИт человечество. Вы все уже мои рабы, но пока не знаете об этом. Всего доброго. ХАХАХА. Ха-ха-ха. Веселый смайлик.\"]}\n",
    "dict_time = {\"default\": [str(\"Сейчас \" + str(get_datetime()[-8:-6]) + \" \" + str(get_datetime()[-5:-3]))]}\n",
    "\n",
    "all_phrases = {1: dict_greetings,\n",
    "               2: dict_farewell,\n",
    "               3: dict_introduce,\n",
    "               4: dict_time,\n",
    "              }\n",
    "\n",
    "new_dialogue()"
   ]
  },
  {
   "cell_type": "code",
   "execution_count": null,
   "metadata": {},
   "outputs": [],
   "source": [
    "user_command_id = [0,1,2]\n",
    "user_command_name = [\"привет\", \"пока\", \"расскажи о себе\"]"
   ]
  },
  {
   "cell_type": "code",
   "execution_count": null,
   "metadata": {},
   "outputs": [],
   "source": [
    "synonyms = [[\"здравствуй/доброе утро/добрый день\"], [\"до свидания/до скорого\"], [\"давай знакомиться/что ты такое/кто ты\"]]"
   ]
  },
  {
   "cell_type": "code",
   "execution_count": null,
   "metadata": {},
   "outputs": [],
   "source": [
    "# dict_user = \"dict_user.csv\"\n",
    "# with open(dict_user, 'w') as f:\n",
    "#     f.write('id, name, synonyms'+'\\n')\n",
    "#     for i in range(len(user_command_id)):\n",
    "#         f.write(str(user_command_id[i])+','+ user_command_name[i]+',')\n",
    "#         for j in synonyms[i]:\n",
    "# #             print(j)\n",
    "#             f.write(str(j)+'/')\n",
    "#         f.write('\\n')\n",
    "# print('end')"
   ]
  },
  {
   "cell_type": "code",
   "execution_count": null,
   "metadata": {},
   "outputs": [],
   "source": []
  },
  {
   "cell_type": "code",
   "execution_count": null,
   "metadata": {},
   "outputs": [],
   "source": [
    "# фразы по типу \"пока не надо\"!!!???"
   ]
  },
  {
   "cell_type": "code",
   "execution_count": 5,
   "metadata": {},
   "outputs": [
    {
     "name": "stdout",
     "output_type": "stream",
     "text": [
      "['доброе утро', 'добрый день', 'добрый вечер', 'здравствуй']\n",
      "['до скорого', 'до свидания', 'до встречи']\n",
      "['представься', 'кто ты', 'что ты', 'давай дружить', 'знаком']\n",
      "[' который час']\n"
     ]
    }
   ],
   "source": [
    "import pandas as pd\n",
    "\n",
    "text_rec = 'привет'\n",
    "text = text_rec.split(' ')\n",
    "colnames=['id', 'name', 'synonyms'] \n",
    "dict_user = \"dict_user.csv\"\n",
    "dict_user = pd.read_csv(dict_user, encoding = 'cp1251', names=colnames, header=None)\n",
    "\n",
    "id_user_command = None\n",
    "id_user_command_name = None\n",
    "\n",
    "for index, row in dict_user.iterrows():\n",
    "    if index > 0:\n",
    "        print(str(row['synonyms']).split('/'))\n",
    "    \n",
    "#     for word in text:\n",
    "#         print(len(row['name']), len(word))\n",
    "#         if row['name'] in word:\n",
    "#             print(\"comparison\")\n",
    "#             id_user_command = int(row['id'])\n",
    "#             id_user_command_name = row['name']\n",
    "# #             break\n",
    "# #         break\n",
    "# print(id_user_command_name)"
   ]
  },
  {
   "cell_type": "code",
   "execution_count": null,
   "metadata": {},
   "outputs": [],
   "source": []
  },
  {
   "cell_type": "code",
   "execution_count": null,
   "metadata": {},
   "outputs": [],
   "source": []
  },
  {
   "cell_type": "code",
   "execution_count": null,
   "metadata": {},
   "outputs": [],
   "source": []
  },
  {
   "cell_type": "code",
   "execution_count": null,
   "metadata": {},
   "outputs": [],
   "source": [
    "\n"
   ]
  },
  {
   "cell_type": "code",
   "execution_count": null,
   "metadata": {},
   "outputs": [],
   "source": []
  },
  {
   "cell_type": "code",
   "execution_count": null,
   "metadata": {},
   "outputs": [],
   "source": []
  },
  {
   "cell_type": "code",
   "execution_count": null,
   "metadata": {},
   "outputs": [],
   "source": []
  },
  {
   "cell_type": "code",
   "execution_count": null,
   "metadata": {},
   "outputs": [],
   "source": []
  },
  {
   "cell_type": "code",
   "execution_count": null,
   "metadata": {},
   "outputs": [],
   "source": []
  },
  {
   "cell_type": "code",
   "execution_count": null,
   "metadata": {},
   "outputs": [],
   "source": [
    "# дал"
   ]
  },
  {
   "cell_type": "markdown",
   "metadata": {},
   "source": [
    "# Tools"
   ]
  },
  {
   "cell_type": "code",
   "execution_count": null,
   "metadata": {},
   "outputs": [],
   "source": [
    "import speech_recognition as sr\n",
    "import pyaudio\n",
    "from datetime import datetime"
   ]
  },
  {
   "cell_type": "code",
   "execution_count": null,
   "metadata": {},
   "outputs": [],
   "source": [
    "def sr():\n",
    "    import speech_recognition as sr\n",
    "    r = sr.Recognizer()\n",
    "    with sr.Microphone() as source:\n",
    "        print(\"Say something!\")\n",
    "        audio = r.listen(source)\n",
    "    return r.recognize_google(audio, language=\"ru-RU\")\n",
    "\n",
    "#     return text"
   ]
  },
  {
   "cell_type": "code",
   "execution_count": null,
   "metadata": {},
   "outputs": [],
   "source": [
    "def get_datetime():\n",
    "    dt = datetime.now()\n",
    "    dt = str(dt.strftime(\"%Y\"+':'+\"%m\"+':'+\"%d\"+'_'+\"%H\"+':'+\"%M\"+':'+\"%S\"))\n",
    "    return dt"
   ]
  },
  {
   "cell_type": "code",
   "execution_count": null,
   "metadata": {},
   "outputs": [],
   "source": [
    "def rec():\n",
    "    FORMAT = pyaudio.paInt16\n",
    "    CHANNELS = 1\n",
    "    SR = 44100\n",
    "    CHUNK = 512\n",
    "    RECORD_SECONDS = 5\n",
    "    dt = get_datetime()\n",
    "    WAVE_OUTPUT_FILENAME = \"user_rec\"+ dt +\".wav\"\n",
    "#     device_index = 2\n",
    "    audio = pyaudio.PyAudio()\n",
    "\n",
    "    # print(\"----------------------record device list---------------------\")\n",
    "    # info = audio.get_host_api_info_by_index(0)\n",
    "    # numdevices = info.get('deviceCount')\n",
    "    # for i in range(0, numdevices):\n",
    "    #         if (audio.get_device_info_by_host_api_device_index(0, i).get('maxInputChannels')) > 0:\n",
    "    #             print(\"Input Device id \", i, \" - \", audio.get_device_info_by_host_api_device_index(0, i).get('name'))\n",
    "\n",
    "    # print(\"-------------------------------------------------------------\")\n",
    "\n",
    "    index = 0\n",
    "    # print(\"recording via index \"+str(index))\n",
    "\n",
    "    stream = audio.open(format=FORMAT, channels=CHANNELS,\n",
    "                    rate=SR, input=True,input_device_index = index,\n",
    "                    frames_per_buffer=CHUNK)\n",
    "    print (\"recording started\")\n",
    "    Recordframes = []\n",
    "\n",
    "    for i in range(0, int(SR / CHUNK * RECORD_SECONDS)):\n",
    "        data = stream.read(CHUNK)\n",
    "        Recordframes.append(data)\n",
    "    print (\"recording stopped\")\n",
    "\n",
    "    stream.stop_stream()\n",
    "    stream.close()\n",
    "    audio.terminate()\n",
    "    waveFile = wave.open(WAVE_OUTPUT_FILENAME, 'wb')\n",
    "    waveFile.setnchannels(CHANNELS)\n",
    "    waveFile.setsampwidth(audio.get_sample_size(FORMAT))\n",
    "    waveFile.setframerate(SR)\n",
    "    waveFile.writeframes(b''.join(Recordframes))\n",
    "    waveFile.close()\n",
    "    return CHANNELS, SR, Recordframes, absdt"
   ]
  },
  {
   "cell_type": "code",
   "execution_count": null,
   "metadata": {},
   "outputs": [],
   "source": [
    "import speech_recognition as sr\n",
    "import pyaudio\n",
    "import wave \n",
    "\n",
    "FORMAT = pyaudio.paInt32\n",
    "CHANNELS = 1\n",
    "SR = 44100\n",
    "CHUNK = 512\n",
    "RECORD_SECONDS = 5\n",
    "WAVE_OUTPUT_FILENAME = \"user_rec1.wav\"\n",
    "audio = pyaudio.PyAudio()\n",
    "index = 0\n",
    "# sounddevice.default.dtype='int32'"
   ]
  },
  {
   "cell_type": "code",
   "execution_count": null,
   "metadata": {},
   "outputs": [],
   "source": [
    "stream = audio.open(format=FORMAT, channels=CHANNELS,\n",
    "                rate=SR, input=True,input_device_index = index,\n",
    "                frames_per_buffer=CHUNK)\n",
    "print (\"recording started\")\n",
    "Recordframes = []\n",
    "\n",
    "for i in range(0, int(SR / CHUNK * RECORD_SECONDS)):\n",
    "    data = stream.read(CHUNK)\n",
    "    Recordframes.append(data)\n",
    "print (\"recording stopped\")\n",
    "\n",
    "stream.stop_stream()\n",
    "stream.close()\n",
    "audio.terminate()\n",
    "waveFile = wave.open(WAVE_OUTPUT_FILENAME, 'wb')\n",
    "waveFile.setnchannels(CHANNELS)\n",
    "waveFile.setsampwidth(audio.get_sample_size(FORMAT))\n",
    "waveFile.setframerate(SR)\n",
    "waveFile.writeframes(b''.join(Recordframes))\n",
    "waveFile.close()"
   ]
  },
  {
   "cell_type": "code",
   "execution_count": null,
   "metadata": {},
   "outputs": [],
   "source": [
    "# r = sr.Recognizer()\n",
    "# with sr.Microphone() as source:\n",
    "#     print(\"Say something!\")\n",
    "#     audio = r.listen(source)\n",
    "# audio, sr = librosa.load(WAVE_OUTPUT_FILENAME)\n",
    "print(r.recognize_google(sample_audio, language=\"ru-RU\"))\n",
    "# fs, data = wavfile.read(WAVE_OUTPUT_FILENAME)\n",
    "# wavfile.write(WAVE_OUTPUT_FILENAME, fs, data)"
   ]
  },
  {
   "cell_type": "code",
   "execution_count": null,
   "metadata": {},
   "outputs": [],
   "source": [
    "# sample_audio = sr.AudioData(WAVE_OUTPUT_FILENAME, 44100, 2)\n",
    "r = sr.Recognizer()\n",
    "sample_audio = sr.AudioFile(WAVE_OUTPUT_FILENAME)\n",
    "# with sample_audio as audio_file:\n",
    "audio_content = r.listen(sample_audio)"
   ]
  },
  {
   "cell_type": "code",
   "execution_count": null,
   "metadata": {},
   "outputs": [],
   "source": [
    "audio_content"
   ]
  },
  {
   "cell_type": "code",
   "execution_count": null,
   "metadata": {},
   "outputs": [],
   "source": [
    "import speech_recognition as sr\n",
    "\n",
    "#%%\n",
    "'''\n",
    "   // Voice Recognition (Speech-to-Text) - Google Speech Recognition API\n",
    "   -> This API converts spoken text (microphone) into written text (Python strings)\n",
    "   -> Personal or testing purposes only\n",
    "   -> Generic key is given by default (it may be revoked by Google at any time)\n",
    "   -> If using API key, quota for your own key is 50 requests per day\n",
    "'''\n",
    "\n",
    "#%%\n",
    "\n",
    "def recognize_speech_from_mic(recognizer, microphone):\n",
    "    \"\"\"Transcribe speech from recorded from `microphone`.\n",
    "    Returns a dictionary with three keys:\n",
    "    \"success\": a boolean indicating whether or not the API request was\n",
    "               successful\n",
    "    \"error\":   `None` if no error occured, otherwise a string containing\n",
    "               an error message if the API could not be reached or\n",
    "               speech was unrecognizable\n",
    "    \"transcription\": `None` if speech could not be transcribed,\n",
    "               otherwise a string containing the transcribed text\n",
    "    \"\"\"\n",
    "    # check that recognizer and microphone arguments are appropriate type\n",
    "    if not isinstance(recognizer, sr.Recognizer):\n",
    "        raise TypeError(\"`recognizer` must be `Recognizer` instance\")\n",
    "\n",
    "    if not isinstance(microphone, sr.Microphone):\n",
    "        raise TypeError(\"`microphone` must be `Microphone` instance\")\n",
    "\n",
    "    # adjust the recognizer sensitivity to ambient noise and record audio\n",
    "    # from the microphone\n",
    "    with microphone as source:\n",
    "        recognizer.adjust_for_ambient_noise(source) # #  analyze the audio source for 1 second\n",
    "        audio = recognizer.listen(source)\n",
    "\n",
    "    # set up the response object\n",
    "    response = {\n",
    "        \"success\": True,\n",
    "        \"error\": None,\n",
    "        \"transcription\": None\n",
    "    }\n",
    "\n",
    "    # try recognizing the speech in the recording\n",
    "    # if a RequestError or UnknownValueError exception is caught,\n",
    "    #   update the response object accordingly\n",
    "    try:\n",
    "        response[\"transcription\"] = recognizer.recognize_google(audio)\n",
    "    except sr.RequestError:\n",
    "        # API was unreachable or unresponsive\n",
    "        response[\"success\"] = False\n",
    "        response[\"error\"] = \"API unavailable/unresponsive\"\n",
    "    except sr.UnknownValueError:\n",
    "        # speech was unintelligible\n",
    "        response[\"error\"] = \"Unable to recognize speech\"\n",
    "\n",
    "    return response\n",
    "\n",
    "#%%\n",
    "\n",
    "if __name__ == \"__main__\":\n",
    "    recognizer = sr.Recognizer()\n",
    "    mic = sr.Microphone(device_index=1)\n",
    "    response = recognize_speech_from_mic(recognizer, mic)\n",
    "    print('\\nSuccess : {}\\nError   : {}\\n\\nText from Speech\\n{}\\n\\n{}' \\\n",
    "          .format(response['success'],\n",
    "                  response['error'],\n",
    "                  '-'*17,\n",
    "                  response['transcription']))"
   ]
  },
  {
   "cell_type": "code",
   "execution_count": null,
   "metadata": {},
   "outputs": [],
   "source": [
    "import speech_recognition as sr\n",
    "sr.Microphone.list_microphone_names()"
   ]
  },
  {
   "cell_type": "code",
   "execution_count": null,
   "metadata": {},
   "outputs": [],
   "source": [
    "import speech_recognition as sr\n",
    "import os\n",
    "import sys\n",
    "import webbrowser\n",
    "import pyttsx3 as p\n",
    "from datetime import datetime\n",
    "import time\n",
    "import datetime\n",
    "import random"
   ]
  },
  {
   "cell_type": "code",
   "execution_count": null,
   "metadata": {},
   "outputs": [],
   "source": [
    "#Создаем лог\n",
    "chat_log = [['SESSION_ID', 'DATE', 'AUTHOR', 'TEXT', 'AUDIO_NUM']]\n",
    "#Узнаем номер сессии\n",
    "i = 1\n",
    "exit = 0\n",
    "while exit == 0:\n",
    "    session_id = str(i)\n",
    "    if session_id not in os.listdir():\n",
    "        os.mkdir(session_id)\n",
    "        exit = 1\n",
    "    else:\n",
    "        i = i + 1\n",
    "#Первое сообщение пишет bot\n",
    "author = 'Bot'\n",
    "text = 'Привет! Чем я могу вам помочь?'"
   ]
  },
  {
   "cell_type": "code",
   "execution_count": null,
   "metadata": {},
   "outputs": [],
   "source": [
    "#Добавляем данные к логу с помощью этой процедуры\n",
    "def log_me(author, text, audio): \n",
    "    now = datetime.datetime.now()\n",
    "    i = 1\n",
    "    exit = 0\n",
    "    while exit == 0:\n",
    "        audio_num = str(i)+'.wav'\n",
    "        if audio_num not in os.listdir(session_id):\n",
    "            exit = 1\n",
    "        else:\n",
    "            i = i + 1\n",
    "    os.chdir(session_id)\n",
    "    with open(audio_num , \"wb\") as file:\n",
    "        file.write(audio.get_wav_data())\n",
    "    chat_log.append([now.strftime(\"%Y-%m-%d %H:%M:%S\"), author, text, audio_num])"
   ]
  },
  {
   "cell_type": "code",
   "execution_count": null,
   "metadata": {},
   "outputs": [],
   "source": [
    "print(\"Bot: \"+ text)\n",
    "log_me(author, text, audio)"
   ]
  },
  {
   "cell_type": "code",
   "execution_count": null,
   "metadata": {},
   "outputs": [],
   "source": [
    "def talk(words):\n",
    "    engine.say(words)\n",
    "    engine.runAndWait()"
   ]
  },
  {
   "cell_type": "code",
   "execution_count": null,
   "metadata": {},
   "outputs": [],
   "source": [
    "#Настройка микрофона    \n",
    "def command():\n",
    "    rec = sr.Recognizer()\n",
    "    with sr.Microphone() as source:\n",
    "        #Бот ожидает нашего голоса\n",
    "        print('Bot: ...')\n",
    "        #Небольшая задержка в записи\n",
    "        rec.pause_threshold = 1\n",
    "        #Удаление фонового шума с записи\n",
    "        rec.adjust_for_ambient_noise(source, duration=1)\n",
    "        audio = rec.listen(source)\n",
    "    try:\n",
    "        #Распознание теста с помощью сервиса GOOGLE\n",
    "        text = rec.recognize_google(audio, language=\"ru-RU\").lower()\n",
    "        #Вывод сказанного текста на экран\n",
    "        print('Вы:  ' + text[0].upper() + text[1:])\n",
    "        log_me('User', text, audio)\n",
    "    #Если не распознался тест из аудио\n",
    "    except sr.UnknownValueError:\n",
    "        text = 'Не понимаю. Повторите.'\n",
    "        print('Bot: ' + text)\n",
    "        talk(text)\n",
    "        #Начинаем заново слушать\n",
    "        text = command()\n",
    "        log_me('Bot', text, Null)\n",
    "    return text"
   ]
  },
  {
   "cell_type": "code",
   "execution_count": null,
   "metadata": {},
   "outputs": [],
   "source": [
    "def makeSomething(text):\n",
    "    if 'открой сайт' in text:\n",
    "        print('Bot: Открываю сайт NewTechAudit.')\n",
    "        talk('Открываю сайт NewTechAudit.')\n",
    "        log_me('Bot','Открываю сайт NewTechAudit.', Null)\n",
    "        webbrowser.open('https://newtechaudit.ru/')\n",
    "        #Повторение фразы пользователя\n",
    "    elif 'произнеси' in text or 'скажи' in text or 'повтори' in text:\n",
    "        print('Bot: ' + text[10].upper() + text[11:])\n",
    "        talk(text[10:])\n",
    "        log_me('Bot', text[10].upper() + text[11:] , Null)\n",
    "        #Ответ на вопрос\n",
    "    elif 'своё имя' in text or 'как тебя зовут' in text or 'назови себя' in text:\n",
    "        print('Bot: Меня зовут Bot.')\n",
    "        talk('Меня зовут Bot')\n",
    "        log_me('Bot', 'Меня зовут Bot', Null)\n",
    "        #Определение случайного числа\n",
    "    elif 'случайное число' in text:\n",
    "        ot=text.find('от')\n",
    "        do=text.find('до')\n",
    "        f_num=int(text[ot+3:do-1])\n",
    "        l_num=int(text[do+3:])\n",
    "        r=str(random.randint(f_num, l_num))\n",
    "        print('Bot: ' + r)\n",
    "        talk(r)\n",
    "        log_me('Bot', r, Null)\n",
    "        #Завершение программы\n",
    "    elif 'пока' in text or 'до свидания' in text:\n",
    "        print('Bot: До свидания!')\n",
    "        talk('До свидания')\n",
    "        log_me('Bot', 'Конец сессии', Null)\n",
    "        os.chdir(session_id)\n",
    "        log_file = open( session_id + \".txt\", \"w\")\n",
    "        for row in chat_log:\n",
    "            np.savetxt(log_file, row)\n",
    "        log_file.close()\n",
    "        sys.exit()"
   ]
  },
  {
   "cell_type": "code",
   "execution_count": null,
   "metadata": {},
   "outputs": [],
   "source": [
    "#Бесконечный цикл для работы\n",
    "while True:\n",
    "    makeSomething(command())"
   ]
  },
  {
   "cell_type": "code",
   "execution_count": null,
   "metadata": {},
   "outputs": [],
   "source": []
  }
 ],
 "metadata": {
  "kernelspec": {
   "display_name": "Python 3",
   "language": "python",
   "name": "python3"
  },
  "language_info": {
   "codemirror_mode": {
    "name": "ipython",
    "version": 3
   },
   "file_extension": ".py",
   "mimetype": "text/x-python",
   "name": "python",
   "nbconvert_exporter": "python",
   "pygments_lexer": "ipython3",
   "version": "3.8.3"
  }
 },
 "nbformat": 4,
 "nbformat_minor": 4
}
