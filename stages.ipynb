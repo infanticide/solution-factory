{
 "cells": [
  {
   "cell_type": "code",
   "execution_count": 1,
   "metadata": {},
   "outputs": [],
   "source": [
    "# параметры на вход:  текстовая строка для синтеза str_synth, \n",
    "#                     пол голоса voice_type, \n",
    "#                     интонация voice_params, \n",
    "#                     метка времени date_time\n",
    "\n",
    "# выход: аудиопоток с заданной интонацией и типом голоса"
   ]
  },
  {
   "cell_type": "code",
   "execution_count": 2,
   "metadata": {},
   "outputs": [],
   "source": [
    "# def audio_gen(str_to_synth = 'базовый текст', voice_type = 'male', voice_params = 'normal', date_time):\n",
    "\n",
    "def speak(tts, phrase):\n",
    "    tts.say(phrase)\n",
    "    tts.runAndWait()\n",
    "\n",
    "def synth(tts, id_uc, user='default'):\n",
    "    phrase = None\n",
    "    if id_uc == 0:\n",
    "        phrase = random.choice(greetings_dict[user])\n",
    "    elif id_uc == 1:\n",
    "        phrase = random.choice(farewell_dict[user])\n",
    "    if phrase:\n",
    "        speak(tts, phrase) "
   ]
  },
  {
   "cell_type": "code",
   "execution_count": 3,
   "metadata": {},
   "outputs": [],
   "source": [
    "# слушать пользователя \n",
    "\n",
    "# параметры на вход: аудиопоток\n",
    "# + sr module \n",
    "# выход: id_user_command, id_user_command_name, date_time \n"
   ]
  },
  {
   "cell_type": "code",
   "execution_count": 4,
   "metadata": {},
   "outputs": [],
   "source": [
    "from  datetime import datetime\n",
    "\n",
    "def get_datetime():\n",
    "    dt = datetime.now()\n",
    "    dt = str(dt.strftime(\"%Y\"+':'+\"%m\"+':'+\"%d\"+'_'+\"%H\"+':'+\"%M\"+':'+\"%S\"))\n",
    "    return dt\n",
    "\n",
    "def srecog(recognizer, microphone):\n",
    "    with microphone as source:\n",
    "        print(\"Say something!\")\n",
    "        audio = recognizer.listen(source)\n",
    "    id_user_command, id_user_command_name = get_command(recognizer.recognize_google(audio, language=\"ru-RU\").lower())    \n",
    "    return id_user_command, id_user_command_name\n",
    "    \n",
    "def get_command(text):\n",
    "    print(text)\n",
    "    id_user_command = None\n",
    "    id_user_command_name = None\n",
    "    print(text)\n",
    "    if 'привет' in text:\n",
    "        id_user_command = 0\n",
    "        id_user_command_name = \"hi\"\n",
    "    elif 'пока' in text:\n",
    "        id_user_command = 1\n",
    "        id_user_command_name = \"bye\"\n",
    "#     elif 'расскажи' in text and 'о себе' in text:\n",
    "#         id_user_command\n",
    "    \n",
    "    elif 'да' in text:\n",
    "        id_user_command = 1\n",
    "        id_user_command_name = \"da\"\n",
    "    elif \"нет\" in text:\n",
    "        id_user_command = 2\n",
    "        id_user_command_name = \"net\"\n",
    "    return id_user_command, id_user_command_name\n",
    "\n",
    "def get_user_answer(recognizer, microphone):\n",
    "    date_time = get_datetime()\n",
    "\n",
    "    id_user_command, id_user_command_name = srecog(recognizer, microphone)\n",
    "    \n",
    "    return id_user_command, id_user_command_name, date_time"
   ]
  },
  {
   "cell_type": "code",
   "execution_count": 7,
   "metadata": {},
   "outputs": [],
   "source": [
    "def new_dialogue():\n",
    "    stop = False\n",
    "    while not stop:\n",
    "        id_user_command, id_user_command_name, date_time = get_user_answer(recognizer, microphone) \n",
    "        synth(tts, id_user_command)\n",
    "        if id_user_command == 1:\n",
    "            stop = True"
   ]
  },
  {
   "cell_type": "code",
   "execution_count": 9,
   "metadata": {},
   "outputs": [
    {
     "name": "stdout",
     "output_type": "stream",
     "text": [
      "Say something!\n",
      "привет\n",
      "привет\n",
      "Say something!\n",
      "ну ладно пока\n",
      "ну ладно пока\n"
     ]
    }
   ],
   "source": [
    "import pyttsx3\n",
    "import random \n",
    "tts = pyttsx3.init()\n",
    "tts.setProperty(\"rate\", 200)\n",
    "\n",
    "import speech_recognition as sr\n",
    "recognizer = sr.Recognizer()\n",
    "microphone = sr.Microphone()\n",
    "greetings_dict = {\"default\": [\"Здравствуйте\", \"Привет\", \"Доброе утро\"], \n",
    "#                   id1: [\"Салам Алейкум\"],\n",
    "#                   id2:[\"Здарова, генерал\", \"Доброе что-то\"], \n",
    "#                   id3:[\"Чо как сам?\"]}\n",
    "                 }\n",
    "farewell_dict = {\"default\": [\"Пока\", \"До скорого\", \"До свидания\", \"Пока-пока\"]}\n",
    "\n",
    "user_command_id = [1,2,3]\n",
    "user_command_name = [\"привет\",\"да\", \"нет\", \"расскажи о себе\"]\n",
    "synonyms = [[\"доброе утро\", \"здравствуй\"], [\"конечно\", \"естественно\", \"открой\", \"сделай\"], [\"не надо\", \"не хочу\"], [\"как тебя зовут?\", \"что ты можешь?\"]]\n",
    "\n",
    "new_dialogue()"
   ]
  },
  {
   "cell_type": "code",
   "execution_count": null,
   "metadata": {},
   "outputs": [],
   "source": [
    "редактор сценариев разговора\n",
    "\n",
    "старт сценария: str_synth, voice_type, voice_params \n",
    "n ветвлений на разные id_user_command"
   ]
  },
  {
   "cell_type": "code",
   "execution_count": null,
   "metadata": {},
   "outputs": [],
   "source": [
    "# фразы по типу \"пока не надо\"!!!???"
   ]
  },
  {
   "cell_type": "code",
   "execution_count": null,
   "metadata": {},
   "outputs": [],
   "source": [
    "1. для каждой библиотеки прототип, где показано, как настраиваются модели и параметры\n",
    "в т.ч. работающие с интернетом\n",
    "\n",
    "2. функция, записывающая в теч. n сек данные с устройства записи по умолчанию (+date_time), передает аудио в SR модуль, \n",
    "который передает текст в user_command_classifier -> возвращает id_user_command / unrecognized_command, \n",
    "date_time - время начала команды"
   ]
  },
  {
   "cell_type": "code",
   "execution_count": null,
   "metadata": {},
   "outputs": [],
   "source": []
  },
  {
   "cell_type": "code",
   "execution_count": null,
   "metadata": {},
   "outputs": [],
   "source": [
    "синонимы для id_user_command\n",
    "\n",
    ".csv\n",
    "\n",
    "\n",
    "id_user_command id_user_command_name   synonyms\n",
    "1                  'да'                ['открой', 'конечно', и т.п.]\n",
    "2                  'нет'\n",
    "3                  'расскажи о себе'   [\"как тебя зовут?\", \"что ты можешь?\"]\n",
    "4 ..."
   ]
  },
  {
   "cell_type": "code",
   "execution_count": null,
   "metadata": {},
   "outputs": [],
   "source": [
    "user_command_id = [1,2,3]\n",
    "user_command_name = [\"привет\",\"да\", \"нет\", \"расскажи о себе\"]\n",
    "synonyms = [[\"доброе утро\", \"здравствуй\"], [\"конечно\", \"естественно\", \"открой\", \"сделай\"], [\"не надо\", \"не хочу\"], [\"как тебя зовут?\", \"что ты можешь?\"]]"
   ]
  },
  {
   "cell_type": "code",
   "execution_count": null,
   "metadata": {},
   "outputs": [],
   "source": [
    "# import pandas as pd\n",
    "with open(\"test_dict.csv\", 'r') as f:\n",
    "    for row in f:\n",
    "        if 'да' in row:\n",
    "            print(row)\n",
    "        \n"
   ]
  },
  {
   "cell_type": "code",
   "execution_count": null,
   "metadata": {},
   "outputs": [],
   "source": [
    "user_dict = \"dictionary.csv\"\n",
    "with open(user_dict, 'w') as f:\n",
    "    f.write('id, name, synonyms'+'\\n')\n",
    "    for i in range(len(user_command_id)):\n",
    "        f.write(str(user_command_id[i])+','+ user_command_name[i]+',')\n",
    "        for j in synonyms[i]:\n",
    "#             print(j)\n",
    "            f.write(str(j)+'/')\n",
    "        f.write('\\n')\n",
    "print('end')\n"
   ]
  },
  {
   "cell_type": "code",
   "execution_count": null,
   "metadata": {},
   "outputs": [],
   "source": [
    "import csv\n",
    "import pandas as pd\n",
    "\n",
    "metadata = pd.read_csv(user_dict)\n",
    "# for row in metadata:\n",
    "#     print(row)\n",
    "metadata.head()"
   ]
  },
  {
   "cell_type": "code",
   "execution_count": null,
   "metadata": {},
   "outputs": [],
   "source": [
    "    6 вариантов библиотек\n",
    "    копирование голоса \n",
    "    "
   ]
  },
  {
   "cell_type": "code",
   "execution_count": null,
   "metadata": {},
   "outputs": [],
   "source": [
    "from IPython.display import Audio\n",
    "Audio(WAVE_OUTPUT_FILENAME)"
   ]
  },
  {
   "cell_type": "markdown",
   "metadata": {},
   "source": [
    "# Tools"
   ]
  },
  {
   "cell_type": "code",
   "execution_count": null,
   "metadata": {},
   "outputs": [],
   "source": [
    "import speech_recognition as sr\n",
    "import pyaudio\n",
    "from datetime import datetime"
   ]
  },
  {
   "cell_type": "code",
   "execution_count": null,
   "metadata": {},
   "outputs": [],
   "source": [
    "def sr():\n",
    "    import speech_recognition as sr\n",
    "    r = sr.Recognizer()\n",
    "    with sr.Microphone() as source:\n",
    "        print(\"Say something!\")\n",
    "        audio = r.listen(source)\n",
    "    return r.recognize_google(audio, language=\"ru-RU\")\n",
    "\n",
    "#     return text"
   ]
  },
  {
   "cell_type": "code",
   "execution_count": null,
   "metadata": {},
   "outputs": [],
   "source": [
    "def get_datetime():\n",
    "    dt = datetime.now()\n",
    "    dt = str(dt.strftime(\"%Y\"+':'+\"%m\"+':'+\"%d\"+'_'+\"%H\"+':'+\"%M\"+':'+\"%S\"))\n",
    "    return dt"
   ]
  },
  {
   "cell_type": "code",
   "execution_count": null,
   "metadata": {},
   "outputs": [],
   "source": [
    "def rec():\n",
    "    FORMAT = pyaudio.paInt16\n",
    "    CHANNELS = 1\n",
    "    SR = 44100\n",
    "    CHUNK = 512\n",
    "    RECORD_SECONDS = 5\n",
    "    dt = get_datetime()\n",
    "    WAVE_OUTPUT_FILENAME = \"user_rec\"+ dt +\".wav\"\n",
    "#     device_index = 2\n",
    "    audio = pyaudio.PyAudio()\n",
    "\n",
    "    # print(\"----------------------record device list---------------------\")\n",
    "    # info = audio.get_host_api_info_by_index(0)\n",
    "    # numdevices = info.get('deviceCount')\n",
    "    # for i in range(0, numdevices):\n",
    "    #         if (audio.get_device_info_by_host_api_device_index(0, i).get('maxInputChannels')) > 0:\n",
    "    #             print(\"Input Device id \", i, \" - \", audio.get_device_info_by_host_api_device_index(0, i).get('name'))\n",
    "\n",
    "    # print(\"-------------------------------------------------------------\")\n",
    "\n",
    "    index = 0\n",
    "    # print(\"recording via index \"+str(index))\n",
    "\n",
    "    stream = audio.open(format=FORMAT, channels=CHANNELS,\n",
    "                    rate=SR, input=True,input_device_index = index,\n",
    "                    frames_per_buffer=CHUNK)\n",
    "    print (\"recording started\")\n",
    "    Recordframes = []\n",
    "\n",
    "    for i in range(0, int(SR / CHUNK * RECORD_SECONDS)):\n",
    "        data = stream.read(CHUNK)\n",
    "        Recordframes.append(data)\n",
    "    print (\"recording stopped\")\n",
    "\n",
    "    stream.stop_stream()\n",
    "    stream.close()\n",
    "    audio.terminate()\n",
    "    waveFile = wave.open(WAVE_OUTPUT_FILENAME, 'wb')\n",
    "    waveFile.setnchannels(CHANNELS)\n",
    "    waveFile.setsampwidth(audio.get_sample_size(FORMAT))\n",
    "    waveFile.setframerate(SR)\n",
    "    waveFile.writeframes(b''.join(Recordframes))\n",
    "    waveFile.close()\n",
    "    return CHANNELS, SR, Recordframes, absdt"
   ]
  },
  {
   "cell_type": "code",
   "execution_count": null,
   "metadata": {},
   "outputs": [],
   "source": [
    "import speech_recognition as sr\n",
    "import pyaudio\n",
    "import wave \n",
    "\n",
    "FORMAT = pyaudio.paInt32\n",
    "CHANNELS = 1\n",
    "SR = 44100\n",
    "CHUNK = 512\n",
    "RECORD_SECONDS = 5\n",
    "WAVE_OUTPUT_FILENAME = \"user_rec1.wav\"\n",
    "audio = pyaudio.PyAudio()\n",
    "index = 0\n",
    "# sounddevice.default.dtype='int32'"
   ]
  },
  {
   "cell_type": "code",
   "execution_count": null,
   "metadata": {},
   "outputs": [],
   "source": [
    "stream = audio.open(format=FORMAT, channels=CHANNELS,\n",
    "                rate=SR, input=True,input_device_index = index,\n",
    "                frames_per_buffer=CHUNK)\n",
    "print (\"recording started\")\n",
    "Recordframes = []\n",
    "\n",
    "for i in range(0, int(SR / CHUNK * RECORD_SECONDS)):\n",
    "    data = stream.read(CHUNK)\n",
    "    Recordframes.append(data)\n",
    "print (\"recording stopped\")\n",
    "\n",
    "stream.stop_stream()\n",
    "stream.close()\n",
    "audio.terminate()\n",
    "waveFile = wave.open(WAVE_OUTPUT_FILENAME, 'wb')\n",
    "waveFile.setnchannels(CHANNELS)\n",
    "waveFile.setsampwidth(audio.get_sample_size(FORMAT))\n",
    "waveFile.setframerate(SR)\n",
    "waveFile.writeframes(b''.join(Recordframes))\n",
    "waveFile.close()"
   ]
  },
  {
   "cell_type": "code",
   "execution_count": null,
   "metadata": {},
   "outputs": [],
   "source": [
    "# r = sr.Recognizer()\n",
    "# with sr.Microphone() as source:\n",
    "#     print(\"Say something!\")\n",
    "#     audio = r.listen(source)\n",
    "# audio, sr = librosa.load(WAVE_OUTPUT_FILENAME)\n",
    "print(r.recognize_google(sample_audio, language=\"ru-RU\"))\n",
    "# fs, data = wavfile.read(WAVE_OUTPUT_FILENAME)\n",
    "# wavfile.write(WAVE_OUTPUT_FILENAME, fs, data)"
   ]
  },
  {
   "cell_type": "code",
   "execution_count": null,
   "metadata": {},
   "outputs": [],
   "source": [
    "# sample_audio = sr.AudioData(WAVE_OUTPUT_FILENAME, 44100, 2)\n",
    "r = sr.Recognizer()\n",
    "sample_audio = sr.AudioFile(WAVE_OUTPUT_FILENAME)\n",
    "# with sample_audio as audio_file:\n",
    "audio_content = r.listen(sample_audio)"
   ]
  },
  {
   "cell_type": "code",
   "execution_count": null,
   "metadata": {},
   "outputs": [],
   "source": [
    "audio_content"
   ]
  },
  {
   "cell_type": "code",
   "execution_count": null,
   "metadata": {},
   "outputs": [],
   "source": [
    "import speech_recognition as sr\n",
    "\n",
    "#%%\n",
    "'''\n",
    "   // Voice Recognition (Speech-to-Text) - Google Speech Recognition API\n",
    "   -> This API converts spoken text (microphone) into written text (Python strings)\n",
    "   -> Personal or testing purposes only\n",
    "   -> Generic key is given by default (it may be revoked by Google at any time)\n",
    "   -> If using API key, quota for your own key is 50 requests per day\n",
    "'''\n",
    "\n",
    "#%%\n",
    "\n",
    "def recognize_speech_from_mic(recognizer, microphone):\n",
    "    \"\"\"Transcribe speech from recorded from `microphone`.\n",
    "    Returns a dictionary with three keys:\n",
    "    \"success\": a boolean indicating whether or not the API request was\n",
    "               successful\n",
    "    \"error\":   `None` if no error occured, otherwise a string containing\n",
    "               an error message if the API could not be reached or\n",
    "               speech was unrecognizable\n",
    "    \"transcription\": `None` if speech could not be transcribed,\n",
    "               otherwise a string containing the transcribed text\n",
    "    \"\"\"\n",
    "    # check that recognizer and microphone arguments are appropriate type\n",
    "    if not isinstance(recognizer, sr.Recognizer):\n",
    "        raise TypeError(\"`recognizer` must be `Recognizer` instance\")\n",
    "\n",
    "    if not isinstance(microphone, sr.Microphone):\n",
    "        raise TypeError(\"`microphone` must be `Microphone` instance\")\n",
    "\n",
    "    # adjust the recognizer sensitivity to ambient noise and record audio\n",
    "    # from the microphone\n",
    "    with microphone as source:\n",
    "        recognizer.adjust_for_ambient_noise(source) # #  analyze the audio source for 1 second\n",
    "        audio = recognizer.listen(source)\n",
    "\n",
    "    # set up the response object\n",
    "    response = {\n",
    "        \"success\": True,\n",
    "        \"error\": None,\n",
    "        \"transcription\": None\n",
    "    }\n",
    "\n",
    "    # try recognizing the speech in the recording\n",
    "    # if a RequestError or UnknownValueError exception is caught,\n",
    "    #   update the response object accordingly\n",
    "    try:\n",
    "        response[\"transcription\"] = recognizer.recognize_google(audio)\n",
    "    except sr.RequestError:\n",
    "        # API was unreachable or unresponsive\n",
    "        response[\"success\"] = False\n",
    "        response[\"error\"] = \"API unavailable/unresponsive\"\n",
    "    except sr.UnknownValueError:\n",
    "        # speech was unintelligible\n",
    "        response[\"error\"] = \"Unable to recognize speech\"\n",
    "\n",
    "    return response\n",
    "\n",
    "#%%\n",
    "\n",
    "if __name__ == \"__main__\":\n",
    "    recognizer = sr.Recognizer()\n",
    "    mic = sr.Microphone(device_index=1)\n",
    "    response = recognize_speech_from_mic(recognizer, mic)\n",
    "    print('\\nSuccess : {}\\nError   : {}\\n\\nText from Speech\\n{}\\n\\n{}' \\\n",
    "          .format(response['success'],\n",
    "                  response['error'],\n",
    "                  '-'*17,\n",
    "                  response['transcription']))"
   ]
  },
  {
   "cell_type": "code",
   "execution_count": null,
   "metadata": {},
   "outputs": [],
   "source": [
    "import speech_recognition as sr\n",
    "sr.Microphone.list_microphone_names()"
   ]
  },
  {
   "cell_type": "code",
   "execution_count": null,
   "metadata": {},
   "outputs": [],
   "source": [
    "import speech_recognition as sr\n",
    "import os\n",
    "import sys\n",
    "import webbrowser\n",
    "import pyttsx3 as p\n",
    "from datetime import datetime\n",
    "import time\n",
    "import datetime\n",
    "import random"
   ]
  },
  {
   "cell_type": "code",
   "execution_count": null,
   "metadata": {},
   "outputs": [],
   "source": [
    "#Создаем лог\n",
    "chat_log = [['SESSION_ID', 'DATE', 'AUTHOR', 'TEXT', 'AUDIO_NUM']]\n",
    "#Узнаем номер сессии\n",
    "i = 1\n",
    "exit = 0\n",
    "while exit == 0:\n",
    "    session_id = str(i)\n",
    "    if session_id not in os.listdir():\n",
    "        os.mkdir(session_id)\n",
    "        exit = 1\n",
    "    else:\n",
    "        i = i + 1\n",
    "#Первое сообщение пишет bot\n",
    "author = 'Bot'\n",
    "text = 'Привет! Чем я могу вам помочь?'"
   ]
  },
  {
   "cell_type": "code",
   "execution_count": null,
   "metadata": {},
   "outputs": [],
   "source": [
    "#Добавляем данные к логу с помощью этой процедуры\n",
    "def log_me(author, text, audio): \n",
    "    now = datetime.datetime.now()\n",
    "    i = 1\n",
    "    exit = 0\n",
    "    while exit == 0:\n",
    "        audio_num = str(i)+'.wav'\n",
    "        if audio_num not in os.listdir(session_id):\n",
    "            exit = 1\n",
    "        else:\n",
    "            i = i + 1\n",
    "    os.chdir(session_id)\n",
    "    with open(audio_num , \"wb\") as file:\n",
    "        file.write(audio.get_wav_data())\n",
    "    chat_log.append([now.strftime(\"%Y-%m-%d %H:%M:%S\"), author, text, audio_num])"
   ]
  },
  {
   "cell_type": "code",
   "execution_count": null,
   "metadata": {},
   "outputs": [],
   "source": [
    "print(\"Bot: \"+ text)\n",
    "log_me(author, text, audio)"
   ]
  },
  {
   "cell_type": "code",
   "execution_count": null,
   "metadata": {},
   "outputs": [],
   "source": [
    "def talk(words):\n",
    "    engine.say(words)\n",
    "    engine.runAndWait()"
   ]
  },
  {
   "cell_type": "code",
   "execution_count": null,
   "metadata": {},
   "outputs": [],
   "source": [
    "#Настройка микрофона    \n",
    "def command():\n",
    "    rec = sr.Recognizer()\n",
    "    with sr.Microphone() as source:\n",
    "        #Бот ожидает нашего голоса\n",
    "        print('Bot: ...')\n",
    "        #Небольшая задержка в записи\n",
    "        rec.pause_threshold = 1\n",
    "        #Удаление фонового шума с записи\n",
    "        rec.adjust_for_ambient_noise(source, duration=1)\n",
    "        audio = rec.listen(source)\n",
    "    try:\n",
    "        #Распознание теста с помощью сервиса GOOGLE\n",
    "        text = rec.recognize_google(audio, language=\"ru-RU\").lower()\n",
    "        #Вывод сказанного текста на экран\n",
    "        print('Вы:  ' + text[0].upper() + text[1:])\n",
    "        log_me('User', text, audio)\n",
    "    #Если не распознался тест из аудио\n",
    "    except sr.UnknownValueError:\n",
    "        text = 'Не понимаю. Повторите.'\n",
    "        print('Bot: ' + text)\n",
    "        talk(text)\n",
    "        #Начинаем заново слушать\n",
    "        text = command()\n",
    "        log_me('Bot', text, Null)\n",
    "    return text"
   ]
  },
  {
   "cell_type": "code",
   "execution_count": null,
   "metadata": {},
   "outputs": [],
   "source": [
    "def makeSomething(text):\n",
    "    if 'открой сайт' in text:\n",
    "        print('Bot: Открываю сайт NewTechAudit.')\n",
    "        talk('Открываю сайт NewTechAudit.')\n",
    "        log_me('Bot','Открываю сайт NewTechAudit.', Null)\n",
    "        webbrowser.open('https://newtechaudit.ru/')\n",
    "        #Повторение фразы пользователя\n",
    "    elif 'произнеси' in text or 'скажи' in text or 'повтори' in text:\n",
    "        print('Bot: ' + text[10].upper() + text[11:])\n",
    "        talk(text[10:])\n",
    "        log_me('Bot', text[10].upper() + text[11:] , Null)\n",
    "        #Ответ на вопрос\n",
    "    elif 'своё имя' in text or 'как тебя зовут' in text or 'назови себя' in text:\n",
    "        print('Bot: Меня зовут Bot.')\n",
    "        talk('Меня зовут Bot')\n",
    "        log_me('Bot', 'Меня зовут Bot', Null)\n",
    "        #Определение случайного числа\n",
    "    elif 'случайное число' in text:\n",
    "        ot=text.find('от')\n",
    "        do=text.find('до')\n",
    "        f_num=int(text[ot+3:do-1])\n",
    "        l_num=int(text[do+3:])\n",
    "        r=str(random.randint(f_num, l_num))\n",
    "        print('Bot: ' + r)\n",
    "        talk(r)\n",
    "        log_me('Bot', r, Null)\n",
    "        #Завершение программы\n",
    "    elif 'пока' in text or 'до свидания' in text:\n",
    "        print('Bot: До свидания!')\n",
    "        talk('До свидания')\n",
    "        log_me('Bot', 'Конец сессии', Null)\n",
    "        os.chdir(session_id)\n",
    "        log_file = open( session_id + \".txt\", \"w\")\n",
    "        for row in chat_log:\n",
    "            np.savetxt(log_file, row)\n",
    "        log_file.close()\n",
    "        sys.exit()"
   ]
  },
  {
   "cell_type": "code",
   "execution_count": null,
   "metadata": {},
   "outputs": [],
   "source": [
    "#Бесконечный цикл для работы\n",
    "while True:\n",
    "    makeSomething(command())"
   ]
  },
  {
   "cell_type": "code",
   "execution_count": null,
   "metadata": {},
   "outputs": [],
   "source": []
  }
 ],
 "metadata": {
  "kernelspec": {
   "display_name": "Python 3",
   "language": "python",
   "name": "python3"
  },
  "language_info": {
   "codemirror_mode": {
    "name": "ipython",
    "version": 3
   },
   "file_extension": ".py",
   "mimetype": "text/x-python",
   "name": "python",
   "nbconvert_exporter": "python",
   "pygments_lexer": "ipython3",
   "version": "3.8.3"
  }
 },
 "nbformat": 4,
 "nbformat_minor": 4
}
